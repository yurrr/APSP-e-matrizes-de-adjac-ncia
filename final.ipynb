{
  "nbformat": 4,
  "nbformat_minor": 0,
  "metadata": {
    "colab": {
      "name": "final.ipynb",
      "version": "0.3.2",
      "provenance": [],
      "collapsed_sections": [
        "V4TdfnWhn_Nk",
        "uZNVDmqFO1x9",
        "EhgtnUjD3MaW",
        "OWq5c_np84l0",
        "XvNDS0wIQG7Q",
        "fFxBfBLzo7Oj",
        "dOn6hNgxLMMh"
      ],
      "include_colab_link": true
    },
    "kernelspec": {
      "name": "python3",
      "display_name": "Python 3"
    }
  },
  "cells": [
    {
      "cell_type": "markdown",
      "metadata": {
        "id": "view-in-github",
        "colab_type": "text"
      },
      "source": [
        "[View in Colaboratory](https://colab.research.google.com/github/yurrr/APSP-e-matrizes-de-adjac-ncia/blob/master/final.ipynb)"
      ]
    },
    {
      "metadata": {
        "id": "V4TdfnWhn_Nk",
        "colab_type": "text"
      },
      "cell_type": "markdown",
      "source": [
        "\n",
        "##Grafos e Matrizes de adjacência\n",
        "\n",
        "\n",
        "### Yuri Medeiros da Silva  - 117061898 \n",
        "---\n",
        "\n",
        "A ideia do trabalho é apresentar uma solução ao problema do **APSP¹**  usando multiplicação de matrizes de adjacência. \n",
        "\n",
        "Utilizaremos o Algoritmo de Djikstra³ **( SSSP² )** como forma de comparação com o método de potenciação de matrizes de adjacencia(APSP, comparando os resultados e os tempos obtidos.\n",
        "\n",
        "¹ All Pair Shortest path , todos os menores caminhos para todos os vértices\n",
        "\n",
        "² Single source shortest path, os menores caminhos partindo de um vértice específico\n",
        "\n",
        "³ Apesar de ser utilizado para encontrar todos os melhores caminhos a partir de um vértice , conseguimos utilizar Djikistra para todos encontrar o APSP executando-o mais de uma vez.\n",
        "\n",
        "\n",
        "Explicações mais detalhadas sobre os tópicos abordados aqui podem ser encontradas no documento abaixo\n",
        "\n",
        " [Notas APSP e matrizes de adjacência](https://docs.google.com/document/d/1smSD6Us7K-WID6jXzlJF5M-d4Qy-yL9a2vpdnUeQjoE/edit?usp=sharing)\n",
        "\n",
        "\n",
        "\n",
        "\n",
        "\n",
        "\n",
        "\n"
      ]
    },
    {
      "metadata": {
        "id": "1P77WyB5EKpS",
        "colab_type": "code",
        "colab": {
          "base_uri": "https://localhost:8080/",
          "height": 0
        },
        "outputId": "0f09c9dd-b6b8-40df-ef1d-87daa51416e3"
      },
      "cell_type": "code",
      "source": [
        "#necessary imports\n",
        "import math\n",
        "import time\n",
        "import numpy as np\n",
        "import scipy\n",
        "from scipy import linalg"
      ],
      "execution_count": 25,
      "outputs": []
    },
    {
      "metadata": {
        "id": "uZNVDmqFO1x9",
        "colab_type": "text"
      },
      "cell_type": "markdown",
      "source": [
        "##Dijkstra\n",
        "\n",
        "> ![grafo](https://i.imgur.com/xRx4syf.jpg)\n",
        "\n",
        "\n",
        "\n",
        "> Dijkstra é utilizado para  a partir de um nó raize encontrarmos o melhor - menos custoso - caminho até os outros vértices.\n",
        "\n",
        "> Pelo exemplo, teriamos que os melhores caminhos partindo de $a$ seriam :\n",
        "\n",
        ">> $a \\rightarrow c$  tem peso 2\n",
        "\n",
        ">> $a \\rightarrow b$   tem peso 3. Indo de $a \\rightarrow c \\rightarrow b$. \n",
        "\n",
        "¹ onde não necessariamente o melhor caminho é o  \"mais direto\"\n",
        "\n",
        "\n",
        "\n",
        "\n"
      ]
    },
    {
      "metadata": {
        "id": "EhgtnUjD3MaW",
        "colab_type": "text"
      },
      "cell_type": "markdown",
      "source": [
        "###Dijkstra algoritmo\n",
        "Input : \n",
        ">O algorítmo recebe uma matriz de adjacência¹ e o vértice a partir do qual serão calculados os caminhos ,respectivamente Graph e source\n",
        "\n",
        "Output :\n",
        "> Um vetor com os caminhos mais curtos a partir do vértice $source$\n",
        "\n",
        "\n",
        "\n",
        "¹ Representação de um grafo sem arestas negativas\n",
        "² A explicação mais detalhada do algorítmo, incluindo pseudo-codigo, pode ser encontrada no link [Notas APSP e matrizes de adjacência](https://docs.google.com/document/d/1smSD6Us7K-WID6jXzlJF5M-d4Qy-yL9a2vpdnUeQjoE/edit?usp=sharing)\n"
      ]
    },
    {
      "metadata": {
        "id": "oKqQOU9gO9NP",
        "colab_type": "code",
        "colab": {
          "base_uri": "https://localhost:8080/",
          "height": 0
        },
        "outputId": "e1ff9985-e73b-4e39-98dd-dd2704117775"
      },
      "cell_type": "code",
      "source": [
        "# Gets min distance between the adjacent nodes\n",
        "# This is a sub-routine utilized in Dijkstra algorithm\n",
        "def distMin(Graph,dist,Q):\n",
        "  each,res,n= math.inf, -1, len(Graph)\n",
        "  for v in range(n) : \n",
        "    if dist[v] < each and Q[v] == False:\n",
        "      each = dist[v]\n",
        "      res = v\n",
        "  return res"
      ],
      "execution_count": 26,
      "outputs": []
    },
    {
      "metadata": {
        "id": "Lm35noeXPVez",
        "colab_type": "code",
        "colab": {
          "base_uri": "https://localhost:8080/",
          "height": 0
        },
        "outputId": "62a3223c-949a-46f2-b3fb-a69a723a7a35"
      },
      "cell_type": "code",
      "source": [
        "# Dijkstra\n",
        "# Based on wikipedia pseudocode\n",
        "# calculates the shortest path on a Graph \n",
        "# from a vertex 'source' to all other nodes\n",
        "def dijkstra(Graph, source) :\n",
        "  # distance to all vertices is inf. \n",
        "  # distance from source node to itself is 0 \n",
        "  distance = [math.inf for i in range (len(Graph))] \n",
        "  distance[source] = 0 \n",
        "  Q = [False] * len(Graph) # caminhos testados\n",
        " \n",
        "  #tests all vertices looking for min\n",
        "  for run in range(len(Graph)):\n",
        "    # gets the minimum vertex\n",
        "    u = distMin(Graph,distance,Q)\n",
        "    Q[u] = True\n",
        "    # tests sub-paths for neighbors of v looking for min\n",
        "    for v in range(len(Graph)):\n",
        "      # if a new min path has been found update\n",
        "        if Graph[u][v] > 0 and Q[v] == False and distance[v] > distance[u] +Graph[u][v]:\n",
        "            distance[v] = distance[u] + Graph[u][v]\n",
        "\n",
        "  return distance\n",
        "\n"
      ],
      "execution_count": 27,
      "outputs": []
    },
    {
      "metadata": {
        "id": "OWq5c_np84l0",
        "colab_type": "text"
      },
      "cell_type": "markdown",
      "source": [
        "##Matrizes de Adjacência\n",
        "\n",
        "$Teorema $ $1$:  Multiplicando uma matriz de adjacência $A_{nxn}$, de um grafo sem pesos, por ela mesmo $k$ vezes observamos que o matriz obtida possui ao número de caminhos (distintos) comprimento $k$ entre os vértices $(i,j)$ de $A_{ij}$ .\n",
        "\n",
        "¹ A prova por indução para o $Teorema$ $1$ pode ser encontrada no arquivo do docs. \n",
        "\n",
        "O objetivo aqui será mostrar graficamente.\n",
        "\n",
        "Com o grafo abaixo : \n",
        "> ![grafo1](https://i.imgur.com/Gq2xemI.png)\n",
        "\n",
        ">Onde a matriz de adjacência é :\n",
        "> $$A(G)_{6x6} = \\begin{bmatrix}\n",
        " 0 & 1  & 0 & 0 & 0& 0 \\\\ \n",
        " 0 & 0  & 1 & 0 & 0& 0 \\\\ \n",
        " 0 & 0  & 0 & 1 & 0& 0 \\\\ \n",
        " 0 & 0  & 0 & 0 & 1& 0 \\\\\n",
        " 0 & 0  & 0 & 0 & 0& 1 \\\\\n",
        " 0 & 0  & 0 & 0 & 0& 0 \\\\\n",
        "\\end{bmatrix}$$\n",
        "\n",
        ">Fazendo : \n",
        "\n",
        "$$A*A = A^{2} $$ \n",
        "$$ onde \\ k = 2 $$\n",
        ">temos que : \n",
        "\n",
        ">>>$$A^{2}  = \\qquad\\begin{bmatrix}\n",
        " 0 & 1  & 0 & 0 & 0& 0 \\\\ \n",
        " 0 & 0  & 1 & 0 & 0& 0 \\\\ \n",
        " 0 & 0  & 0 & 1 & 0& 0 \\\\ \n",
        " 0 & 0  & 0 & 0 & 1& 0 \\\\\n",
        " 0 & 0  & 0 & 0 & 0& 1 \\\\\n",
        " 0 & 0  & 0 & 0 & 0& 0 \\\\\n",
        "\\end{bmatrix} \\quad * \\quad\\begin{bmatrix}\n",
        " 0 & 1  & 0 & 0 & 0& 0 \\\\ \n",
        " 0 & 0  & 1 & 0 & 0& 0 \\\\ \n",
        " 0 & 0  & 0 & 1 & 0& 0 \\\\ \n",
        " 0 & 0  & 0 & 0 & 1& 0 \\\\\n",
        " 0 & 0  & 0 & 0 & 0& 1 \\\\\n",
        " 0 & 0  & 0 & 0 & 0& 0 \\\\\n",
        "\\end{bmatrix} $$\n",
        "\n",
        ">Encontraremos os caminhos de tamanho 2 no grafo( arestas em vermelho)\n",
        "\n",
        "\n",
        ">>> $$   \\quad  A^{2}  = \\begin{bmatrix}\n",
        "0&0&1&0&0&0 \\\\\n",
        "0&0&0&1&0&0 \\\\\n",
        "0&0&0&0&1&0 \\\\\n",
        "0&0&0&0&0&1 \\\\\n",
        "0&0&0&0&0&0 \\\\\n",
        "0&0&0&0&0&0 \n",
        "\\end{bmatrix}_{(6x6)} $$\n",
        "\n",
        "> ![grafo2](https://i.imgur.com/L8UC5Rb.png)\n",
        "\n",
        ">Onde cada entrada $i$ e $j$  da matriz $A^{2}$ corresponde ao número de caminhos de comprimento $k$  , onde $k=2$ .\n"
      ]
    },
    {
      "metadata": {
        "id": "XvNDS0wIQG7Q",
        "colab_type": "text"
      },
      "cell_type": "markdown",
      "source": [
        "###Repeated squaring method using min-plus\n",
        "\n",
        ">Apesar do método anterior ser útil para encontrar o menor caminho em grafos que nao possuam peso, ele necessita de algumas alterações para que possa resolver o problema APSP em grafos com peso. \n",
        "\n",
        ">Para isso utilizaremos uma técnica de programação dinâmica (PD) e min-plus product.\n",
        ">>A PD  é utilizada salvando os valores na matriz e comparando com ela mesmo.Já o min-plus product consiste em substituírmos o sinal de * por + e pelo operação de minimo.\n",
        "\n",
        ">> Como por exemplo , dado duas matrizes A e B a * delas é  :\n",
        ">> $$C = (c_{ij}) = A * B$$\n",
        "\n",
        ">>$$ (c_{ij}) =  min_{k =1 }^{n} (a_{ik}+b_{kj})  $$\n",
        "\n",
        ">Denotaremos $D(k)$ onde $k$  assumirá a quantidade de vezes que multiplicaremos a matriz $A$ $$A^{k} =A * A* A * ... *A$$\n",
        ">Tentarei demonstrar intuitivamente o porque de ser usado min-plus \n",
        "\n",
        ">Intuitivamente : \n",
        ">>Dada o grafo abaixo :\n",
        "\n",
        ">>>>>>>>![grafo](https://i.imgur.com/9To3ntZ.png)\n",
        "\n",
        ">> Cuja matriz de adjacência é  :\n",
        "\n",
        "$$A =  \\begin{bmatrix}\n",
        " 0 & 5  & \\infty & \\infty \\\\ \n",
        " \\infty &  0 & 1 & \\infty \\\\ \n",
        " 8 & \\infty  & 0 & 3 \\\\ \n",
        " 2 & \\infty & \\infty  & 0\n",
        "\\end{bmatrix}$$\n",
        "\n",
        "\n",
        ">> Para encontrarmos o menor caminho nesse grafo primeiro faremos $A*A$ utilizando min-plus product\n",
        "\n",
        "$$D(2) = A^{2}=  \\begin{bmatrix}\n",
        " 0 & 5  & \\infty & \\infty \\\\ \n",
        " \\infty &  0 & 1 & \\infty \\\\ \n",
        " 8 & \\infty  & 0 & 3 \\\\ \n",
        " 2 & \\infty & \\infty  & 0\n",
        "\\end{bmatrix}  * \\begin{bmatrix}\n",
        " 0 & 5  & \\infty & \\infty \\\\ \n",
        " \\infty &  0 & 1 & \\infty \\\\ \n",
        " 8 & \\infty  & 0 & 3 \\\\ \n",
        " 2 & \\infty & \\infty  & 0\n",
        "\\end{bmatrix}$$\n",
        ">>Utilizamos o mesmo processo de multiplicação de matrizes, fazendo linha * coluna, no entanto usando min-plus.\n",
        ">>> obs : Para cada $linha*coluna$, pegaremos o menor valor obtido da soma de cada elemento.\n",
        ">>> Na primeira $linha *coluna$ teriamos que selecionar o minimo entre {${0+0,5 + \\infty, \\infty + 8, \\infty+2}$} o que nos daria o resultado $0$.\n",
        "\n",
        ">>Calculando a primeira linha da matriz $D(2)$\n",
        ">>>$$ (d_{00}) =  min_{k =0 }^{4} (a_{0k} + a_{k0})  = 0 $$ \n",
        ">>>$$ (d_{01}) =  min_{k =0}^{4} (a_{1k} + a_{k1})  = 5 $$\n",
        ">>>$$ (d_{02}) =  min_{k =0}^{4} (a_{2k} + a_{k2})  = 6 $$\n",
        ">>>$$ (d_{03}) =  min_{k =0 }^{4} (a_{3k} + a_{k3})  = \\infty$$\n",
        "\n",
        ">>>$$D(2)=  \\begin{bmatrix}\n",
        " 0 & 5  & 6 & \\infty \\\\ \n",
        "  9&  0 & 1 & 4 \\\\ \n",
        " 5 & 12  & 0 & 3 \\\\ \n",
        " 2 & 7 & \\infty  & 0\n",
        "\\end{bmatrix}$$\n",
        "\n",
        ">>Contudo, olhando no grafo, podemos reparar que essa matriz nao possui todos os caminhos mais curtos.Isso se dá porque nem sempre o caminho mais direto é o menos custoso. Assim, rodariamos o algorítmo novamente com $D(3)$¹ e veriamos, por exemplo, que o elemento $a_{03}$ alcançaria menor caminho. \n",
        "\n",
        ">>>$$ (d_{03}) =  min_{k =0 }^{4} (a_{3k} + a_{k3})  = 9$$\n",
        "\n",
        ">> O algoritmo é rodado $k$ vezes, onde $k=len(V)$², para encontrarmos o caminho mais curto.\n",
        "\n",
        ">> A PD³ é utilizada para conseguirmos salvar sempre o menor caminho, por mais que eu possa encontrar em D(3) um caminho com maior custo, teremos salvo em uma matriz se esse valor é maior ou menor que o anterior e guardaremos o menor sempre.\n",
        "\n",
        ">>A matriz final do exemplo ficaria :\n",
        "$$ \\begin{bmatrix}\n",
        " 0 & 5  & 6 & 9 \\\\ \n",
        " 6 &  0 & 1 & 4 \\\\ \n",
        " 5 & 10  & 0 & 3 \\\\ \n",
        " 2 & 7 & 8  & 0\n",
        "\\end{bmatrix}$$\n",
        "\n",
        ">Concluindo :\n",
        ">>Podemos ver que o algorítmo funciona pois ele parte da premissa de sempre salvar a soma do menor caminho entre dois vértices e ele testa todos os caminhos possiveis(ao ser rodado a mesma quantidade de vezes que o o número de vertices) pois faz uso do $Teorema1$ .Com o $Teorema1$ e rodando ele k vezes conseguimos garantir que ele veja os caminhos de tamanho $1..k$$ \n",
        "\n",
        "\n",
        "\n",
        "¹ o Algortimo é executado novamente entretanto os valores mínimos são sempre preservados.\n",
        "\n",
        "² k é igual o número de vértices do grafo.\n",
        "\n",
        "³ PD : forma abreviada de Programação Dinamica\n",
        "\n",
        "\n",
        "\n",
        "\n",
        "\n",
        "\n"
      ]
    },
    {
      "metadata": {
        "id": "9aAFNowBIjxd",
        "colab_type": "code",
        "colab": {
          "base_uri": "https://localhost:8080/",
          "height": 0
        },
        "outputId": "5b618c4e-87d7-40ab-9726-dca475892a02"
      },
      "cell_type": "code",
      "source": [
        "#Multiplication with min-plus product and dynamic programming\n",
        "#diagonal must be 0\n",
        "#non-adjacent inf\n",
        "#feito da mesma forma que um algoritmo de produto retangular, entretanto, na parte da multiplicação \n",
        "#trocamos * por + e min\n",
        "def specialMultiply(A,B):\n",
        "  n = len(A)\n",
        "  #C matrix auxiliar \n",
        "  C = np.zeros((n,n))\n",
        "  \n",
        "  for i in range(n):\n",
        "    for j in range(n):\n",
        "      #inicializacao do vetor auxiliar\n",
        "      C[i,j] = math.inf\n",
        "      for k in range(0,n):\n",
        "        #PD, procuro sempre o menor valor entre a soma do valor das arestas entre os vertices e o que já tinhamos visto anteriormente\n",
        "        C[i,j] = min(A[i][k]+B[k][j],C[i,j]) #min-plus algebra\n",
        "  return C\n"
      ],
      "execution_count": 28,
      "outputs": []
    },
    {
      "metadata": {
        "id": "K0rT3fk0J_cr",
        "colab_type": "text"
      },
      "cell_type": "markdown",
      "source": [
        "As rotinas abaixo servem para calcular $D(1) ...D(k)$¹ retornando k -1 (para testar todos os caminhos de comprimento diferete) , o que , como explicado anteriormente, possibilita achar o menor caminho \n",
        "\n",
        "Input : Grafo , matriz de adjacência \n",
        "\n",
        "Output :  Matriz com o caminho mais curto \n",
        "\n",
        "\n",
        "\n",
        "¹ k é a quantidade de vertices do grafo"
      ]
    },
    {
      "metadata": {
        "id": "GKtmrDqnImoj",
        "colab_type": "code",
        "colab": {
          "base_uri": "https://localhost:8080/",
          "height": 0
        },
        "outputId": "7545a338-b85d-48c7-f534-5c3e0d38be2c"
      },
      "cell_type": "code",
      "source": [
        "def calculateDfaster(W):\n",
        "  n = len(W)\n",
        "  D = []\n",
        "  D.insert(0,W)\n",
        "  D.insert(1,W)\n",
        "  m = 1\n",
        "  while m < n -1 :\n",
        "    D.insert((2*m),(specialMultiply(D[m],D[m])))\n",
        "    m = 2*m\n",
        "  return D[len(D) -1]"
      ],
      "execution_count": 29,
      "outputs": []
    },
    {
      "metadata": {
        "id": "Ge8K-8NoIpOd",
        "colab_type": "code",
        "colab": {
          "base_uri": "https://localhost:8080/",
          "height": 0
        },
        "outputId": "147e3025-19f6-47c8-d67e-5c90d55c83d8"
      },
      "cell_type": "code",
      "source": [
        "def calculateDslower(W) :\n",
        "  L = []\n",
        "  L.insert(0,W)\n",
        "  for m in range(1,len(W)):\n",
        "    L.insert(m,(specialMultiply(L[m-1],W)))\n",
        "  return L[m-1]\n"
      ],
      "execution_count": 30,
      "outputs": []
    },
    {
      "metadata": {
        "id": "fFxBfBLzo7Oj",
        "colab_type": "text"
      },
      "cell_type": "markdown",
      "source": [
        "##INPUT\n",
        "\n",
        "Uma matriz de adjacência  $nxn$, onde a distância de um vértice $u$ até o vértice  $g$ onde nao possuem arestas os ligando é $\\infty$, e, a distância de $u$ atéw $u$ caso nao seja conectado com si mesmo é $0$\n",
        "\n",
        "####Matematicamente falando  : \n",
        "\n",
        "> $G = (V,E)$\n",
        "\n",
        "> $ A(G)_{nxn} ,\n",
        "\\begin{gather*}\n",
        "  a_{ij} {=}\n",
        "  \\begin{cases}\n",
        "  w & \\text{Peso da aresta de  $j$ até $i$ caso exista.}\\\\\n",
        "  \\infty & \\text{Não existindo aresta entre $j$ até $i$ .}\\\\\n",
        "  0 & \\text{Não sendo conectado a si mesmo.}\n",
        "  \\end{cases}\n",
        "\\end{gather*}$\n",
        "\n",
        "\n",
        "\n",
        "\n",
        "####Exemplo :\n",
        "> $A(G)_{4x4} = \\begin{bmatrix}\n",
        " 0 & 5  & \\infty & \\infty \\\\ \n",
        " \\infty &  0 & 1 & \\infty \\\\ \n",
        " 8 & \\infty  & 0 & 3 \\\\ \n",
        " 2 & \\infty & \\infty  & 0\n",
        "\\end{bmatrix}$ \n",
        "\n",
        "\n",
        "> ![grafo](https://i.imgur.com/9To3ntZ.png)\n",
        "\n",
        "\n",
        "\n",
        "\n",
        "\n",
        " \n"
      ]
    },
    {
      "metadata": {
        "id": "5zqePemg0cFt",
        "colab_type": "code",
        "colab": {
          "base_uri": "https://localhost:8080/",
          "height": 294
        },
        "outputId": "ea09ca82-ea79-4a96-b2de-af45e2f6a01d"
      },
      "cell_type": "code",
      "source": [
        "# graph inputed\n",
        "g = [\n",
        "    [0,5,math.inf,math.inf],\n",
        "    [math.inf,0,1,math.inf],\n",
        "    [8, math.inf,0,3],\n",
        "    [2,math.inf,math.inf,0]\n",
        "]\n",
        "#Repeated Squaring\n",
        "print(\"Repeated Squaring mode\")\n",
        "print(\"Slow mode\\n\",calculateDslower(g))\n",
        "print(\"Faster mode \\n\",calculateDfaster(g))\n",
        "#Dijkstra\n",
        "print(\"Dijkstra\")\n",
        "print(dijkstra(g,0))\n",
        "print(dijkstra(g,1))\n",
        "print(dijkstra(g,2))\n",
        "print(dijkstra(g,3))\n",
        "\n"
      ],
      "execution_count": 31,
      "outputs": [
        {
          "output_type": "stream",
          "text": [
            "Repeated Squaring mode\n",
            "Slow mode\n",
            " [[ 0.  5.  6.  9.]\n",
            " [ 6.  0.  1.  4.]\n",
            " [ 5. 10.  0.  3.]\n",
            " [ 2.  7.  8.  0.]]\n",
            "Faster mode \n",
            " [[ 0.  5.  6.  9.]\n",
            " [ 6.  0.  1.  4.]\n",
            " [ 5. 10.  0.  3.]\n",
            " [ 2.  7.  8.  0.]]\n",
            "Dijkstra\n",
            "[0, 5, 6, 9]\n",
            "[6, 0, 1, 4]\n",
            "[5, 10, 0, 3]\n",
            "[2, 7, 8, 0]\n"
          ],
          "name": "stdout"
        }
      ]
    },
    {
      "metadata": {
        "id": "dOn6hNgxLMMh",
        "colab_type": "text"
      },
      "cell_type": "markdown",
      "source": [
        "##Comparações\n",
        ">O algorítmo do Dijkstra possuí diversas formas de implementação(lista de prioriade, heap de fibonacci,...) o que faz com que possamos obter diferentes valores para sua complexidade. Podemos ter de $O(V³)$ até $O(E + V log V)$ (utilizando heap de fibonacci).\n",
        "\n",
        ">Já com o algorítmo de potenciação de matrizes apresentado aqui teremos $O(V^{w})$ com $w= 3$, sendo $w$ a complexidade para multiplicação de matrizes. Entretanto estão sempre tentando melhorar o processo de multiplicação de matrizes e , hoje, um dos algorítmos mais novos e eficientes nos da $w=2.376$.\n",
        "\n",
        ">Outros algorítmos que utilizam multiplicação de matriz para resolver APSP  conseguem ser cada vez mais rapidos, temos o algorítmo de Chan ’07 com complexidade de $n³(log log n)³/ (log n)²$\n",
        "\n",
        ">Dessa forma, vemos que o algorítmo Dijkstra quase sempre será melhor, contudo, isso depende da implementação utilizada. "
      ]
    },
    {
      "metadata": {
        "id": "q0YPwxXi64cL",
        "colab_type": "code",
        "colab": {
          "base_uri": "https://localhost:8080/",
          "height": 345
        },
        "outputId": "13acad86-0b32-4581-f365-be32eb3b8dde"
      },
      "cell_type": "code",
      "source": [
        "\n",
        "\n",
        "print(\"Repeated Squaring mode\")\n",
        "\n",
        "start_time = time.time()\n",
        "print(\"Slow mode\\n\",calculateDslower(g))\n",
        "print(\"---time for slow mode :   %s seconds ---\" % (time.time() - start_time))\n",
        "\n",
        "start_time = time.time()\n",
        "print(\"Faster mode \\n\",calculateDfaster(g))\n",
        "print(\"---time for faster mode :   %s seconds ---\" % (time.time() - start_time))\n",
        "\n",
        "#Dijkstra\n",
        "print(\"Dijkstra\")\n",
        "start_time = time.time()\n",
        "print(dijkstra(g,0))\n",
        "print(dijkstra(g,1))\n",
        "print(dijkstra(g,2))\n",
        "print(dijkstra(g,3))\n",
        "print(\"---time for dijkstra :   %s seconds ---\" % (time.time() - start_time))"
      ],
      "execution_count": 34,
      "outputs": [
        {
          "output_type": "stream",
          "text": [
            "Repeated Squaring mode\n",
            "Slow mode\n",
            " [[ 0.  5.  6.  9.]\n",
            " [ 6.  0.  1.  4.]\n",
            " [ 5. 10.  0.  3.]\n",
            " [ 2.  7.  8.  0.]]\n",
            "---time for slow mode :   0.001775979995727539 seconds ---\n",
            "Faster mode \n",
            " [[ 0.  5.  6.  9.]\n",
            " [ 6.  0.  1.  4.]\n",
            " [ 5. 10.  0.  3.]\n",
            " [ 2.  7.  8.  0.]]\n",
            "---time for faster mode :   0.0012688636779785156 seconds ---\n",
            "Dijkstra\n",
            "[0, 5, 6, 9]\n",
            "[6, 0, 1, 4]\n",
            "[5, 10, 0, 3]\n",
            "[2, 7, 8, 0]\n",
            "---time for dijkstra :   0.0008227825164794922 seconds ---\n"
          ],
          "name": "stdout"
        }
      ]
    },
    {
      "metadata": {
        "id": "e5ndUfurLxxm",
        "colab_type": "text"
      },
      "cell_type": "markdown",
      "source": [
        "Observação :\n",
        "\n",
        "o tempo de execução acima varia bastante.Entretanto, na maioria dos resultados apresentados temos Dijkstra em primeiro, Faster mode em segundo e slower em terceiro, as vezes o faster-mode fica na frente do Dijktra."
      ]
    },
    {
      "metadata": {
        "id": "_exb8nfaLsvd",
        "colab_type": "code",
        "colab": {}
      },
      "cell_type": "code",
      "source": [
        ""
      ],
      "execution_count": 0,
      "outputs": []
    }
  ]
}